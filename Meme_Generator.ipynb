{
 "cells": [
  {
   "cell_type": "markdown",
   "metadata": {},
   "source": [
    "# Meme Generator\n",
    "\n",
    "## Intro\n",
    "\n",
    "#### The purpose of this project is to generate memes, of course. A modern meme consists of a heavily edited or distorted image, typically accompanied by some sort of caption. My code aims to generate memes based on user-inputted images by adjusting color and contrast, and by adding text."
   ]
  },
  {
   "cell_type": "code",
   "execution_count": 3,
   "metadata": {},
   "outputs": [],
   "source": [
    "from PIL import Image, ImageFilter, ImageEnhance, ImageFont, ImageDraw\n",
    "import os, random\n",
    "import textwrap"
   ]
  },
  {
   "cell_type": "markdown",
   "metadata": {},
   "source": [
    "## ImportCell\n",
    "\n",
    "#### The prior cell imported a couple modules that I will be using.\n",
    "\n",
    "\n",
    "\n",
    "\n",
    "## Deep Fryer\n",
    "\n",
    "#### This next cell is the \"Deep fryer\" of my code. This function will take an inputted image from a specified directory. The default for this code is of course set to my computer, but it is designed to be able to reach any destination you specify (as long as it fits within the parameters). This function is compatible with all image filetypes."
   ]
  },
  {
   "cell_type": "code",
   "execution_count": 4,
   "metadata": {},
   "outputs": [],
   "source": [
    "def deep_fryer(root = 'C', root_dir = 'Users', sub_dir = 'BALTHASAR - 02', \n",
    "               folder = 'Downloads', filename = 'untitled', filetype = 'jpg'):\n",
    "    \n",
    "    \"\"\" Accesses an image in a specified directory, and modifies contrast and color values.\n",
    "    \n",
    "    PARAMETERS:\n",
    "    \n",
    "        root | string, root of ones directory (such as E, D, or C)\n",
    "        \n",
    "        root_dir | string, the root folder of the directory to be used (i.e. Program Files, Users, etc.)\n",
    "        \n",
    "        sub_dir | string, the sub directory within the root directory. Will vary depending on the root folder\n",
    "                selected (i.e. if root_dir is Users: sub_dir may be the username such as John or DavidsPC)\n",
    "                \n",
    "        folder | the folder within the sub directory that you wish to access (i.e. Documents, Pictures, Downloads)\n",
    "        \n",
    "        filename | the name of the file you wish to access\n",
    "        \n",
    "        filetype | the image type of the file you are accessing. DO NOT include any periods. (i.e. jpg, png, etc.)\"\"\"\n",
    "    \n",
    "    directory = (root + ':\\\\' + root_dir + '\\\\' + sub_dir + '\\\\' + folder + '\\\\' + filename + '.' + filetype)\n",
    "    \n",
    "    \n",
    "    untitled = Image.open(directory)\n",
    "    \n",
    "    #Splits the color bands of the image, allowing for each band to be modified independetly\n",
    "    source = untitled.split()\n",
    "\n",
    "\n",
    "    ##Modifies each individual band\n",
    "    R, G, B = 0, 1, 2\n",
    "\n",
    "    mask = source[R].point(lambda i: i < 115 and 255)\n",
    "\n",
    "    out = source[G].point(lambda i: i * 0.3)\n",
    "\n",
    "    source[B].paste(out, None, mask)\n",
    "\n",
    "    ##Recombines the bands into one image\n",
    "    im = Image.merge(untitled.mode, source)\n",
    "\n",
    "    ##retrieves the image and assigns it to the Contrast fucntion, which allows me to adjust the contrast\n",
    "    get_fry = ImageEnhance.Contrast(im)\n",
    "\n",
    "    #enhance now knows to take from the contrast function, the value in parentheses is the value by which the\n",
    "    #contrast of the image will be raised\n",
    "    # 8.5 = 750% increase in contrast\n",
    "\n",
    "    fried = get_fry.enhance(8.5)\n",
    "    \n",
    "    dir_no_file = (root + ':\\\\' + root_dir + '\\\\' + sub_dir + '\\\\' + folder + '\\\\')\n",
    "    \n",
    "    fry_out = fried.save(dir_no_file + 'fried.jpg')\n",
    "\n",
    "    ##Presents the image, after all modifications have been done\n",
    "    return fry_out"
   ]
  },
  {
   "cell_type": "markdown",
   "metadata": {},
   "source": [
    "#### Here, I run the previously defined function, generating a new image. This image is placed within the same directory the user has specified. Additionally, the image is converted into a .jpg (to make it a little uglier and more compressed in case a .png was uploaded). Lastly, the image is assigned the name \"fried\" in order for the following function to find the image."
   ]
  },
  {
   "cell_type": "code",
   "execution_count": 4,
   "metadata": {},
   "outputs": [],
   "source": [
    "deep_fryer(filename = 'idk')"
   ]
  },
  {
   "cell_type": "markdown",
   "metadata": {},
   "source": [
    "## Add Text\n",
    "\n",
    "#### This function takes in the same directory inputs as the last, minus the file name and type. As said before, this is to ensure that the \"fried\" image is retrieved, rather than the original image. This function will use this directory to creates variables that will allow the image to have text added to it. It will generate a random string from a list I created, and the text from the string to the image, and return the output. There is also a chance that two strings of text will be added to the image, rather than one. Unlike deep_fryer, add_text will not save the image onto your computer, it will simply show it you through a pop-up window. This is mainly to avoid having to delete tons of images after running and re-running the function."
   ]
  },
  {
   "cell_type": "code",
   "execution_count": 5,
   "metadata": {},
   "outputs": [],
   "source": [
    "def add_text(root = 'C', root_dir = 'Users', sub_dir = 'BALTHASAR - 02', \n",
    "               folder = 'Downloads'):\n",
    "    \n",
    "    \"\"\" Accesses the image created by the function deep_fryer() and adds text to it.\n",
    "        Additionally, can be used to add text to any image, as long as the image is named fried.jpg.\n",
    "        \n",
    "        This function works best with images that are 500x500 pixels, as some text strings will not\n",
    "        properly fit on the page.\n",
    "    \n",
    "    \n",
    "    PARAMETERS:\n",
    "    \n",
    "        root | string, root of ones directory (such as E, D, or C)\n",
    "        \n",
    "        root_dir | string, the root folder of the directory to be used (i.e. Program Files, Users, etc.)\n",
    "        \n",
    "        sub_dir | string, the sub directory within the root directory. Will vary depending on the root folder\n",
    "                selected (i.e. if root_dir is Users: sub_dir may be the username such as John or DavidsPC)\n",
    "                \n",
    "        folder | the folder within the sub directory that you wish to access (i.e. Documents, Pictures, Downloads)\n",
    "        \n",
    "        ENSURE THESE INPUTS MATCH THE ONES USED IN deep_fryer()\"\"\"\n",
    "    \n",
    "    \n",
    "    directory = (root + ':\\\\' + root_dir + '\\\\' + sub_dir + '\\\\' + folder + '\\\\' + 'fried.jpg')\n",
    "    \n",
    "    \n",
    "    #opens the image\n",
    "    image = Image.open(directory)\n",
    "    \n",
    "    #creates a variable allowing me to edit the image\n",
    "    draw = ImageDraw.Draw(image)\n",
    "    \n",
    "    #retrieves the font I will be using for the image\n",
    "    font = ImageFont.truetype('impact.ttf', size = 40)\n",
    "    \n",
    "    #coordinates for the text, x2 and y2 being the coordinates for the second text\n",
    "    (x, y) = (50,40)\n",
    "    (x2, y2) = (50, 550)\n",
    "    \n",
    "    #list of possible jokes\n",
    "    jokes = ['I am guilty of 12 counts of \\nhome invasion in the state of Lousiana \\nfrom the years 2008 - 2012',\n",
    "             \n",
    "    'PLEASE GIVE ME AN A',\n",
    "             \n",
    "    'my drunk *** lookin at the \\nmcdonalds menu at 3:32am:',\n",
    "             \n",
    "    '(slow heavy metal music playing)',\n",
    "             \n",
    "    'the screen at the bowling \\nalley when you get a strike:',\n",
    "             \n",
    "    'we live in a society',\n",
    "             \n",
    "    'how the mcdonalds manager \\nrolls up when there\\'s a problem',\n",
    "             \n",
    "    'Me: *Turns off AdBlocker* \\nHot local singles in my area:',\n",
    "             \n",
    "    'Nobody: \\nGeorge Lopez at 3AM:',\n",
    "             \n",
    "    '10 year old me explaining why I need a \\nclub penguin membership to have different colored \\nigloos and puffins']\n",
    "\n",
    "    #randomly assigns a value from the list\n",
    "    text = random.choice(jokes)\n",
    "    \n",
    "    #colors that will be used for the images, 1 for text, and 2 for text2\n",
    "    fill_1 = 'rgb(255,255,255)'\n",
    "    fill_2 = 'rgb(255,255,255)'\n",
    "    outline_1 = 'rgb(0,0,0)'\n",
    "    outline_2 = 'rgb(0,0,0)'\n",
    "    \n",
    "    #gives the text to be put on the image a border, to be more clearly visible\n",
    "    #SOURCE : https://mail.python.org/pipermail/image-sig/2009-May/005681.html\n",
    "    draw.text((x-1, y-1), text, font=font, fill = outline_1)\n",
    "    draw.text((x+1, y-1), text, font=font, fill = outline_1)\n",
    "    draw.text((x-1, y+1), text, font=font, fill = outline_1)\n",
    "    draw.text((x+1, y+1), text, font=font, fill = outline_1)\n",
    "    \n",
    "    #applies the fill color of the generated text to the image\n",
    "    meme = draw.text((x, y), text, fill = fill_1, font = font)\n",
    "    \n",
    "    #generates a random float between 0 and 1\n",
    "    chance = random.random()\n",
    "    \n",
    "    #sets a condition that if true, will generate another value from the \n",
    "    #list and assign it to a new variable, text2\n",
    "    if chance >= 0.75:\n",
    "        \n",
    "        text2 = random.choice(jokes)\n",
    "        \n",
    "        #text2 is given a border and fill, then applied to the image\n",
    "        #SOURCE: https://mail.python.org/pipermail/image-sig/2009-May/005681.html\n",
    "        draw.text((x2-1, y2-1), text2, font=font, fill = outline_2)\n",
    "        draw.text((x2+1, y2-1), text2, font=font, fill = outline_2)\n",
    "        draw.text((x2-1, y2+1), text2, font=font, fill = outline_2)\n",
    "        draw.text((x2+1, y2+1), text2, font=font, fill = outline_2)\n",
    "        \n",
    "        meme_2 = draw.text((x2, y2), text2, fill = fill_2, font = font)\n",
    "        \n",
    "        #fin_meme is the final output of all added text if this condition is filled\n",
    "        #will show the final image\n",
    "        fin_meme = image.show(meme_2)\n",
    "        \n",
    "    else:\n",
    "        \n",
    "        #in this case, text2 is not assigned a value\n",
    "        #fin_meme becomes the output of only the original text variable being put on the image\n",
    "        #will show the final image\n",
    "        fin_meme = image.show(meme)\n",
    "    \n",
    "    return fin_meme"
   ]
  },
  {
   "cell_type": "markdown",
   "metadata": {},
   "source": [
    "#### Running add_text returns the final image."
   ]
  },
  {
   "cell_type": "code",
   "execution_count": 9,
   "metadata": {},
   "outputs": [],
   "source": [
    "add_text()"
   ]
  },
  {
   "cell_type": "code",
   "execution_count": 6,
   "metadata": {},
   "outputs": [],
   "source": [
    "def meme_generator(root = 'C', root_dir = 'Users', sub_dir = 'BALTHASAR - 02', folder = 'Downloads',\n",
    "                  filename = 'untitled', filetype = 'jpg'):\n",
    "    \n",
    "    \n",
    "    deep_fryer(root, root_dir, sub_dir, folder, filename, filetype )\n",
    "    \n",
    "    \n",
    "    \n",
    "    add_text(root, root_dir, sub_dir, folder)"
   ]
  },
  {
   "cell_type": "code",
   "execution_count": 9,
   "metadata": {},
   "outputs": [],
   "source": [
    "meme_generator(folder = 'Documents', filename = 'idk')"
   ]
  },
  {
   "cell_type": "code",
   "execution_count": null,
   "metadata": {},
   "outputs": [],
   "source": []
  }
 ],
 "metadata": {
  "kernelspec": {
   "display_name": "Python 3",
   "language": "python",
   "name": "python3"
  },
  "language_info": {
   "codemirror_mode": {
    "name": "ipython",
    "version": 3
   },
   "file_extension": ".py",
   "mimetype": "text/x-python",
   "name": "python",
   "nbconvert_exporter": "python",
   "pygments_lexer": "ipython3",
   "version": "3.7.1"
  }
 },
 "nbformat": 4,
 "nbformat_minor": 2
}
